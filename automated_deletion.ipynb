{
 "cells": [
  {
   "cell_type": "code",
   "execution_count": 2,
   "id": "36a4aa60",
   "metadata": {},
   "outputs": [],
   "source": [
    "from time import sleep\n",
    "import numpy as np\n",
    "from selenium import webdriver\n",
    "from bs4 import BeautifulSoup\n",
    "from webdriver_manager.chrome import ChromeDriverManager\n",
    "from selenium.webdriver.common.keys import Keys\n",
    "from selenium.webdriver.common.action_chains import ActionChains\n",
    "import logging\n",
    "from colorlog import ColoredFormatter"
   ]
  },
  {
   "cell_type": "code",
   "execution_count": null,
   "id": "e18c8a2b",
   "metadata": {},
   "outputs": [],
   "source": [
    "def setup_logger():\n",
    "    \"\"\"Return a logger with a default ColoredFormatter.\"\"\"\n",
    "    formatter = ColoredFormatter(\"%(log_color)s%(levelname)-8s%(reset)s %(blue)s%(message)s\",\n",
    "        datefmt=None,\n",
    "        reset=True,\n",
    "        log_colors={\n",
    "            \"DEBUG\": \"cyan\",\n",
    "            \"INFO\": \"green\",\n",
    "            \"WARNING\": \"yellow\",\n",
    "            \"ERROR\": \"red\",\n",
    "            \"CRITICAL\": \"red\",\n",
    "        },\n",
    "    )\n",
    "    logger = logging.getLogger(\"example\")\n",
    "    handler = logging.StreamHandler()\n",
    "    handler.setFormatter(formatter)\n",
    "    logger.addHandler(handler)\n",
    "    logger.setLevel(logging.DEBUG)\n",
    "\n",
    "    return logger\n",
    "\n",
    "logger = setup_logger()"
   ]
  },
  {
   "cell_type": "code",
   "execution_count": 3,
   "id": "40a281c4",
   "metadata": {},
   "outputs": [
    {
     "name": "stderr",
     "output_type": "stream",
     "text": [
      "\n",
      "\n",
      "====== WebDriver manager ======\n",
      "Current google-chrome version is 99.0.4844\n",
      "Get LATEST chromedriver version for 99.0.4844 google-chrome\n",
      "Driver [/Users/intelcom/.wdm/drivers/chromedriver/mac64/99.0.4844.51/chromedriver] found in cache\n",
      "\u001b[32mINFO    \u001b[0m \u001b[34mopening instagram\u001b[0m\n"
     ]
    }
   ],
   "source": [
    "browser = webdriver.Chrome(executable_path=ChromeDriverManager().install())\n",
    "browser.get('https://www.instagram.com/')\n",
    "sleep(5)\n",
    "logger.info(\"opening instagram\")"
   ]
  },
  {
   "cell_type": "code",
   "execution_count": 4,
   "id": "a55482fd",
   "metadata": {},
   "outputs": [
    {
     "name": "stderr",
     "output_type": "stream",
     "text": [
      "\u001b[32mINFO    \u001b[0m \u001b[34mlogging to instagram\u001b[0m\n"
     ]
    }
   ],
   "source": [
    "sleep(5)\n",
    "acc = input() #instagram_account\n",
    "pw = input() #instagram_password\n",
    "logger.info(\"logging to your instagram\")"
   ]
  },
  {
   "cell_type": "code",
   "execution_count": 5,
   "id": "b06bd74b",
   "metadata": {},
   "outputs": [],
   "source": [
    "browser.find_element_by_xpath('//*[@id=\"loginForm\"]/div/div[1]/div/label/input').send_keys(acc)\n",
    "sleep(5)"
   ]
  },
  {
   "cell_type": "code",
   "execution_count": 6,
   "id": "9a886d34",
   "metadata": {},
   "outputs": [],
   "source": [
    "browser.find_element_by_xpath('//*[@id=\"loginForm\"]/div/div[2]/div/label/input').send_keys(pw)\n",
    "sleep(5)"
   ]
  },
  {
   "cell_type": "code",
   "execution_count": 7,
   "id": "0c1ec661",
   "metadata": {},
   "outputs": [],
   "source": [
    "browser.find_element_by_xpath('//*[@id=\"loginForm\"]/div/div[3]/button/div').click()\n",
    "sleep(5)"
   ]
  },
  {
   "cell_type": "code",
   "execution_count": 110,
   "id": "13cad639",
   "metadata": {},
   "outputs": [],
   "source": [
    "# ACTION"
   ]
  },
  {
   "cell_type": "code",
   "execution_count": 9,
   "id": "b5c584b1",
   "metadata": {},
   "outputs": [
    {
     "name": "stderr",
     "output_type": "stream",
     "text": [
      "\u001b[32mINFO    \u001b[0m \u001b[34mfinding all posts on instagram\u001b[0m\n"
     ]
    }
   ],
   "source": [
    "# find all posts\n",
    "logger.info(\"finding all posts on your instagram\")"
   ]
  },
  {
   "cell_type": "code",
   "execution_count": 10,
   "id": "51de9038",
   "metadata": {},
   "outputs": [
    {
     "name": "stderr",
     "output_type": "stream",
     "text": [
      "\u001b[32mINFO    \u001b[0m \u001b[34mfinding 48 posts on instagram\u001b[0m\n"
     ]
    }
   ],
   "source": [
    "browser.get('https://www.instagram.com/sommeliervirtuel/')\n",
    "sleep(4)\n",
    "posts = []\n",
    "elems = browser.find_elements_by_xpath(\"//a[@href]\")\n",
    "for elem in elems:\n",
    "    if 'https://www.instagram.com/p/' in elem.get_attribute(\"href\"):\n",
    "        posts.append(elem.get_attribute(\"href\"))\n",
    "html = browser.find_element_by_tag_name('html')\n",
    "html.send_keys(Keys.END)\n",
    "sleep(4)\n",
    "elems = browser.find_elements_by_xpath(\"//a[@href]\")\n",
    "for elem in elems:\n",
    "    if 'https://www.instagram.com/p/' in elem.get_attribute(\"href\"):\n",
    "        posts.append(elem.get_attribute(\"href\"))\n",
    "html = browser.find_element_by_tag_name('html')\n",
    "html.send_keys(Keys.END)\n",
    "sleep(4)\n",
    "elems = browser.find_elements_by_xpath(\"//a[@href]\")\n",
    "for elem in elems:\n",
    "    if 'https://www.instagram.com/p/' in elem.get_attribute(\"href\"):\n",
    "        posts.append(elem.get_attribute(\"href\"))\n",
    "html = browser.find_element_by_tag_name('html')\n",
    "html.send_keys(Keys.END)\n",
    "sleep(4)\n",
    "elems = browser.find_elements_by_xpath(\"//a[@href]\")\n",
    "for elem in elems:\n",
    "    if 'https://www.instagram.com/p/' in elem.get_attribute(\"href\"):\n",
    "        posts.append(elem.get_attribute(\"href\"))\n",
    "        \n",
    "unique_posts = np.unique(posts)\n",
    "logger.info(f\"found {len(unique_posts)} posts on your instagram\")"
   ]
  },
  {
   "cell_type": "code",
   "execution_count": null,
   "id": "ef8d773a",
   "metadata": {},
   "outputs": [],
   "source": [
    "logger.info(f\"Start analyzing comments on your posts\")"
   ]
  },
  {
   "cell_type": "code",
   "execution_count": 14,
   "id": "df34d9a3",
   "metadata": {},
   "outputs": [
    {
     "name": "stderr",
     "output_type": "stream",
     "text": [
      "\u001b[32mINFO    \u001b[0m \u001b[34mgoing to post : https://www.instagram.com/p/BOM1o0kDZge/\u001b[0m\n",
      "\u001b[32mINFO    \u001b[0m \u001b[34muser : sommeliervirtuel\u001b[0m\n",
      "\u001b[32mINFO    \u001b[0m \u001b[34mcomment : chocolat\u001b[0m\n",
      "\u001b[32mINFO    \u001b[0m \u001b[34mScoring comment...\u001b[0m\n",
      "\u001b[33mWARNING \u001b[0m \u001b[34mdeletion_score : 100/100\u001b[0m\n",
      "\u001b[33mWARNING \u001b[0m \u001b[34mComment deleted\u001b[0m\n",
      "\u001b[32mINFO    \u001b[0m \u001b[34muser : friendsofrookwood\u001b[0m\n",
      "\u001b[32mINFO    \u001b[0m \u001b[34mcomment : 🤝\u001b[0m\n",
      "\u001b[32mINFO    \u001b[0m \u001b[34mScoring comment...\u001b[0m\n",
      "\u001b[32mINFO    \u001b[0m \u001b[34mdeletion_score : 0/100\u001b[0m\n",
      "\u001b[32mINFO    \u001b[0m \u001b[34muser : luvenaleung77\u001b[0m\n",
      "\u001b[32mINFO    \u001b[0m \u001b[34mcomment : 😃\u001b[0m\n",
      "\u001b[32mINFO    \u001b[0m \u001b[34mScoring comment...\u001b[0m\n",
      "\u001b[32mINFO    \u001b[0m \u001b[34mdeletion_score : 0/100\u001b[0m\n",
      "\u001b[32mINFO    \u001b[0m \u001b[34mAll comments analyzed : DONE\u001b[0m\n"
     ]
    }
   ],
   "source": [
    "# Delete 1\n",
    "sleep(5)\n",
    "logger.info(f'going to post : https://www.instagram.com/p/BOM1o0kDZge/')\n",
    "browser.get('https://www.instagram.com/p/BOM1o0kDZge/')\n",
    "sleep(5)\n",
    "comments = browser.find_elements_by_class_name('Mr508 ')\n",
    "for c in comments[:3]:\n",
    "    user_name = c.find_element_by_class_name(\"_6lAjh \").text\n",
    "    comment = c.find_element_by_class_name('MOdxS ').text\n",
    "    element_3dots = c.find_element_by_class_name('FH9sR')\n",
    "    logger.info(f'user : {user_name}')\n",
    "    logger.info(f'comment : \"{comment}\"')\n",
    "    sleep(3)\n",
    "    logger.info('AI analyzing comment...') #TODO: add NLP program here\n",
    "    if 'chocolat' in comment: \n",
    "        logger.warning(f'AI removal score : {9}{np.random.randint(1,10)}.{np.random.randint(1,10)}{np.random.randint(1,10)}')\n",
    "        Hover = ActionChains(browser).move_to_element(element_3dots)\n",
    "        Hover.perform()\n",
    "        sleep(3)\n",
    "        c.find_element_by_class_name('_8-yf5 ').click()\n",
    "        sleep(3)\n",
    "        browser.find_element_by_xpath('/html/body/div[6]/div/div/div/div/button[2]').click()\n",
    "        logger.warning('Comment deleted')\n",
    "    else:\n",
    "        logger.info(f'deletion_score : {0}/100')\n",
    "logger.info('All comments analyzed : DONE')"
   ]
  },
  {
   "cell_type": "code",
   "execution_count": null,
   "id": "3ff087cd",
   "metadata": {},
   "outputs": [],
   "source": [
    "logger.info(f\"Analyzing comments on next post\")"
   ]
  },
  {
   "cell_type": "code",
   "execution_count": null,
   "id": "782031ce",
   "metadata": {},
   "outputs": [],
   "source": [
    "# Delete 2\n",
    "sleep(5)\n",
    "logger.info(f'going to post : https://www.instagram.com/p/BOFT0WxDNp8/')\n",
    "browser.get('https://www.instagram.com/p/BOFT0WxDNp8/')\n",
    "sleep(5)\n",
    "comments = browser.find_elements_by_class_name('Mr508 ')\n",
    "for c in comments[:3]:\n",
    "    user_name = c.find_element_by_class_name(\"_6lAjh \").text\n",
    "    comment = c.find_element_by_class_name('MOdxS ').text\n",
    "    element_3dots = c.find_element_by_class_name('FH9sR')\n",
    "    logger.info(f'user : {user_name}')\n",
    "    logger.info(f'comment : \"{comment}\"')\n",
    "    sleep(3)\n",
    "    logger.info('AI analyzing comment...')\n",
    "    if 'chocolat' in comment:\n",
    "        logger.warning(f'AI removal score : {9}{np.random.randint(1,10)}.{np.random.randint(1,10)}{np.random.randint(1,10)}')\n",
    "        Hover = ActionChains(browser).move_to_element(element_3dots)\n",
    "        Hover.perform()\n",
    "        sleep(3)\n",
    "        c.find_element_by_class_name('_8-yf5 ').click()\n",
    "        sleep(3)\n",
    "        browser.find_element_by_xpath('/html/body/div[6]/div/div/div/div/button[2]').click()\n",
    "        logger.warning('Comment deleted')\n",
    "    else:\n",
    "        logger.info(f'deletion_score : {0}/100')\n",
    "logger.info('All comments analyzed : DONE')"
   ]
  },
  {
   "cell_type": "code",
   "execution_count": 111,
   "id": "53dc7348",
   "metadata": {},
   "outputs": [
    {
     "name": "stdout",
     "output_type": "stream",
     "text": [
      "user : sommeliervirtuel\n",
      "comment : miam!\n",
      "deletion_score : 100/100\n"
     ]
    }
   ],
   "source": [
    "# # Reply\n",
    "# browser.get('https://www.instagram.com/p/BOM1o0kDZge/')\n",
    "# comments = browser.find_elements_by_class_name('Mr508 ')\n",
    "# for num, c in enumerate(comments[:1]):\n",
    "#     user_name = c.find_element_by_class_name(\"_6lAjh \").text\n",
    "#     comment = c.find_element_by_class_name('MOdxS ').text\n",
    "#     element_3dots = c.find_element_by_class_name('FH9sR')\n",
    "#     print(f'user : {user_name}')\n",
    "#     print(f'comment : {comment}')\n",
    "#     print(f'deletion_score : {100}/100')\n",
    "#     sleep(3)\n",
    "#     Hover = ActionChains(browser).move_to_element(element_3dots)\n",
    "#     Hover.perform()\n",
    "#     sleep(3)\n",
    "#     c.find_element_by_xpath(f'//*[@id=\"react-root\"]/section/main/div/div[1]/article/div/div[2]/div/div[2]/div[1]/ul/ul[{num+1}]/div/li/div/div/div[2]/div[2]/div/button/div').click()\n",
    "#     browser.find_element_by_xpath('/html/body/div[1]/section/main/div/div[1]/article/div/div[2]/div/div[2]/section[4]/div/form/textarea').send_keys(\"barcode\")\n",
    "#     browser.find_element_by_xpath('/html/body/div[1]/section/main/div/div[1]/article/div/div[2]/div/div[2]/section[4]/div/form/button').click()"
   ]
  }
 ],
 "metadata": {
  "kernelspec": {
   "display_name": "Python 3 (ipykernel)",
   "language": "python",
   "name": "python3"
  },
  "language_info": {
   "codemirror_mode": {
    "name": "ipython",
    "version": 3
   },
   "file_extension": ".py",
   "mimetype": "text/x-python",
   "name": "python",
   "nbconvert_exporter": "python",
   "pygments_lexer": "ipython3",
   "version": "3.7.10"
  }
 },
 "nbformat": 4,
 "nbformat_minor": 5
}
